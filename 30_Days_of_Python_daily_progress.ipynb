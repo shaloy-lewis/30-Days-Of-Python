{
  "nbformat": 4,
  "nbformat_minor": 0,
  "metadata": {
    "colab": {
      "provenance": [],
      "authorship_tag": "ABX9TyPXJfEbpQAV0sF5j9JlDsBy",
      "include_colab_link": true
    },
    "kernelspec": {
      "name": "python3",
      "display_name": "Python 3"
    },
    "language_info": {
      "name": "python"
    }
  },
  "cells": [
    {
      "cell_type": "markdown",
      "metadata": {
        "id": "view-in-github",
        "colab_type": "text"
      },
      "source": [
        "<a href=\"https://colab.research.google.com/github/shaloy-lewis/30-Days-Of-Python/blob/master/30_Days_of_Python_daily_progress.ipynb\" target=\"_parent\"><img src=\"https://colab.research.google.com/assets/colab-badge.svg\" alt=\"Open In Colab\"/></a>"
      ]
    },
    {
      "cell_type": "markdown",
      "source": [
        "# **Day 1**"
      ],
      "metadata": {
        "id": "ApVhRRpOcn7w"
      }
    },
    {
      "cell_type": "code",
      "execution_count": 2,
      "metadata": {
        "colab": {
          "base_uri": "https://localhost:8080/"
        },
        "id": "JhYqqyUlXFha",
        "outputId": "135601fd-e99c-4346-b19d-13f67c74b92c"
      },
      "outputs": [
        {
          "output_type": "stream",
          "name": "stdout",
          "text": [
            "Python 3.7.14\n"
          ]
        }
      ],
      "source": [
        "!python --version"
      ]
    },
    {
      "cell_type": "code",
      "source": [
        "# Day 1 - 30DaysOfPython Challenge\n",
        "\n",
        "print(3 + 4)             # addition(+)\n",
        "print(3 - 4)             # subtraction(-)\n",
        "print(3 * 4)             # multiplication(*)\n",
        "print(3 / 4)             # division(/)\n",
        "print(3 ** 4)            # exponential(**)\n",
        "print(3 % 4)             # modulus(%)\n",
        "print(3 // 4)            # Floor division operator(//)\n",
        "\n",
        "# Checking data types\n",
        "print(type(10))          # Int\n",
        "print(type(3.14))        # Float\n",
        "print(type(1 + 3j))      # Complex number\n",
        "print(type('Asabeneh'))  # String\n",
        "print(type([1, 2, 3]))   # List\n",
        "print(type({'name':'Asabeneh'})) # Dictionary\n",
        "print(type({9.8, 3.14, 2.7}))    # Set\n",
        "print(type((9.8, 3.14, 2.7)))    # Tuple"
      ],
      "metadata": {
        "colab": {
          "base_uri": "https://localhost:8080/"
        },
        "id": "9TjTSWuwc8IG",
        "outputId": "4c3b7688-3486-4a5b-c27c-4eab4d65f13f"
      },
      "execution_count": 3,
      "outputs": [
        {
          "output_type": "stream",
          "name": "stdout",
          "text": [
            "5\n",
            "2\n",
            "6\n",
            "1.5\n",
            "9\n",
            "1\n",
            "1\n",
            "<class 'int'>\n",
            "<class 'float'>\n",
            "<class 'complex'>\n",
            "<class 'str'>\n",
            "<class 'list'>\n",
            "<class 'dict'>\n",
            "<class 'set'>\n",
            "<class 'tuple'>\n"
          ]
        }
      ]
    },
    {
      "cell_type": "code",
      "source": [
        "# Find an Euclidian distance between (2, 3) and (10, 8)\n",
        "distance = ((2 - 10) ** 2 + (3 - 8) ** 2) ** 0.5\n",
        "print(distance)"
      ],
      "metadata": {
        "colab": {
          "base_uri": "https://localhost:8080/"
        },
        "id": "J13GtOfOlaRy",
        "outputId": "eab6660b-efdc-4773-8c2a-8ad1f1dac7f8"
      },
      "execution_count": 4,
      "outputs": [
        {
          "output_type": "stream",
          "name": "stdout",
          "text": [
            "9.433981132056603\n"
          ]
        }
      ]
    },
    {
      "cell_type": "markdown",
      "source": [
        "# **Day 2**"
      ],
      "metadata": {
        "id": "k9OeRTj4hO-N"
      }
    },
    {
      "cell_type": "code",
      "source": [
        "# Variables in Python\n",
        "first_name = 'Shaloy'\n",
        "last_name = 'Lewis'\n",
        "full_name = 'Shaloy Lewis'\n",
        "country = 'India'\n",
        "city = 'Mangalore'\n",
        "age = 24\n",
        "is_married = False\n",
        "is_true = True\n",
        "is_light_on = False\n",
        "skills = ['HTML', 'CSS', 'JS', 'React', 'Python']\n",
        "person_info = {\n",
        "   'firstname':first_name,\n",
        "   'lastname':last_name,\n",
        "   'country':country,\n",
        "   'city':city\n",
        "   }"
      ],
      "metadata": {
        "id": "TMG919twmrXh"
      },
      "execution_count": 1,
      "outputs": []
    },
    {
      "cell_type": "code",
      "source": [
        "print(type(first_name))\n",
        "print(type(last_name))\n",
        "print(type(full_name))\n",
        "print(type(country))\n",
        "print(type(city))\n",
        "print(type(age))\n",
        "print(type(is_married))\n",
        "print(type(is_light_on))\n",
        "print(type(skills))\n",
        "print(type(person_info))"
      ],
      "metadata": {
        "colab": {
          "base_uri": "https://localhost:8080/"
        },
        "id": "EQs9JB1Ei6Xt",
        "outputId": "0a83426d-9185-4833-e2cb-d99bda07ce55"
      },
      "execution_count": 5,
      "outputs": [
        {
          "output_type": "stream",
          "name": "stdout",
          "text": [
            "<class 'str'>\n",
            "<class 'str'>\n",
            "<class 'str'>\n",
            "<class 'str'>\n",
            "<class 'str'>\n",
            "<class 'int'>\n",
            "<class 'bool'>\n",
            "<class 'bool'>\n",
            "<class 'list'>\n",
            "<class 'dict'>\n"
          ]
        }
      ]
    },
    {
      "cell_type": "code",
      "source": [
        "len(first_name)"
      ],
      "metadata": {
        "colab": {
          "base_uri": "https://localhost:8080/"
        },
        "id": "gLbl7Ff9jxT9",
        "outputId": "2c0d04bc-ed6b-406a-8534-c426f897cdcf"
      },
      "execution_count": 6,
      "outputs": [
        {
          "output_type": "execute_result",
          "data": {
            "text/plain": [
              "6"
            ]
          },
          "metadata": {},
          "execution_count": 6
        }
      ]
    },
    {
      "cell_type": "code",
      "source": [
        "len(last_name)"
      ],
      "metadata": {
        "colab": {
          "base_uri": "https://localhost:8080/"
        },
        "id": "NwxuGDd9j-nP",
        "outputId": "3c4a9fbd-19ca-4e4a-e959-95786e468603"
      },
      "execution_count": 7,
      "outputs": [
        {
          "output_type": "execute_result",
          "data": {
            "text/plain": [
              "5"
            ]
          },
          "metadata": {},
          "execution_count": 7
        }
      ]
    },
    {
      "cell_type": "code",
      "source": [
        "num1 = 5\n",
        "num2 = 4\n",
        "\n",
        "total = num1 + num2\n",
        "diff = num1 - num2\n",
        "product = num1 * num2\n",
        "division = num1 / num2\n",
        "reminder = num1 % num2\n",
        "exp = num1 ** num2\n",
        "floor_division = num1 // num2\n",
        "\n",
        "print(total)\n",
        "print(diff)\n",
        "print(product)\n",
        "print(division)\n",
        "print(reminder)\n",
        "print(exp)\n",
        "print(floor_division)"
      ],
      "metadata": {
        "colab": {
          "base_uri": "https://localhost:8080/"
        },
        "id": "X0JCxpyVkDWY",
        "outputId": "dc7d154f-4ac9-44ae-d496-8e8011022dc7"
      },
      "execution_count": 9,
      "outputs": [
        {
          "output_type": "stream",
          "name": "stdout",
          "text": [
            "9\n",
            "1\n",
            "20\n",
            "1.25\n",
            "1\n",
            "625\n",
            "1\n"
          ]
        }
      ]
    },
    {
      "cell_type": "code",
      "source": [
        "radius = int(input('Enter the circle radius: '))\n",
        "area_of_circle = 3.14 * radius ** 2\n",
        "circum_of_circle = 2 * 3.14 * radius\n",
        "\n",
        "print(area_of_circle)\n",
        "print(circum_of_circle)"
      ],
      "metadata": {
        "colab": {
          "base_uri": "https://localhost:8080/"
        },
        "id": "aE5-qEOvlAtc",
        "outputId": "9f7cce10-7a7f-4cbc-ffd5-574736bad5f8"
      },
      "execution_count": 12,
      "outputs": [
        {
          "output_type": "stream",
          "name": "stdout",
          "text": [
            "Enter the circle radius: 30\n",
            "2826.0\n",
            "188.4\n"
          ]
        }
      ]
    },
    {
      "cell_type": "code",
      "source": [
        "first_name = input('Enter your first name: ')\n",
        "last_name = input('Enter your last name: ')\n",
        "country = input('Enter your country: ')\n",
        "age = int(input('Enter your age: '))\n",
        "\n",
        "print(first_name)\n",
        "print(last_name)\n",
        "print(country)\n",
        "print(age)"
      ],
      "metadata": {
        "colab": {
          "base_uri": "https://localhost:8080/"
        },
        "id": "iBpA1ilrlwh3",
        "outputId": "6d50e54a-f0b0-4dc5-889e-dfc727a60493"
      },
      "execution_count": 13,
      "outputs": [
        {
          "output_type": "stream",
          "name": "stdout",
          "text": [
            "Enter your first name: Shaloy\n",
            "Enter your last name: Lewis\n",
            "Enter your country: India\n",
            "Enter your age: 24\n",
            "Shaloy\n",
            "Lewis\n",
            "India\n",
            "24\n"
          ]
        }
      ]
    },
    {
      "cell_type": "code",
      "source": [
        "help('keywords')"
      ],
      "metadata": {
        "colab": {
          "base_uri": "https://localhost:8080/"
        },
        "id": "_CH49Fzrmf3t",
        "outputId": "f6125e1b-651f-4f0a-9f32-ef2903e4f210"
      },
      "execution_count": 14,
      "outputs": [
        {
          "output_type": "stream",
          "name": "stdout",
          "text": [
            "\n",
            "Here is a list of the Python keywords.  Enter any keyword to get more help.\n",
            "\n",
            "False               class               from                or\n",
            "None                continue            global              pass\n",
            "True                def                 if                  raise\n",
            "and                 del                 import              return\n",
            "as                  elif                in                  try\n",
            "assert              else                is                  while\n",
            "async               except              lambda              with\n",
            "await               finally             nonlocal            yield\n",
            "break               for                 not                 \n",
            "\n"
          ]
        }
      ]
    },
    {
      "cell_type": "code",
      "source": [],
      "metadata": {
        "id": "S78tpcCJmp-d"
      },
      "execution_count": null,
      "outputs": []
    }
  ]
}